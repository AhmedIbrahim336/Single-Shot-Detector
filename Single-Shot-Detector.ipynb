{
 "cells": [
  {
   "cell_type": "markdown",
   "metadata": {},
   "source": [
    "This notebook is based on series of about SSD\n",
    "\n",
    "Part I: [Network Structure (This article)](https://towardsdatascience.com/implementing-ssd-in-keras-part-i-network-structure-da3323f11cff)\n",
    "\n",
    "Part II: [Loss Functions](https://towardsdatascience.com/implementing-single-shot-detector-ssd-in-keras-part-ii-loss-functions-4f43c292ad2a?sk=5e1265989a1e250844b0674dc670f234)\n",
    "\n",
    "Part III: [Data Preparation](https://towardsdatascience.com/implementing-single-shot-detector-ssd-in-keras-part-iii-data-preparation-624ba37f5924?sk=39164c76031c0f60785dd3aa559cc2a6)\n",
    "\n",
    "Part IV: [Data Augmentation](https://towardsdatascience.com/implementing-single-shot-detector-ssd-in-keras-part-iv-data-augmentation-59c9f230a910?sk=cf25ff5e9e78ea56415f1f4c8be1fa32)\n",
    "\n",
    "Part V: [Predictions Decoding](https://towardsdatascience.com/implementing-single-shot-detector-ssd-in-keras-part-v-predictions-decoding-2305a6e4c7a1?sk=4c80a5b66d49fee2055b98437d4ca474)\n",
    "\n",
    "Part VI: [Model Evaluation](https://towardsdatascience.com/implementing-single-shot-detector-ssd-in-keras-part-vi-model-evaluation-c519852588d1?sk=797df0a4bf29d36ddd1e7ee9fe5c81a3)"
   ]
  },
  {
   "cell_type": "markdown",
   "metadata": {},
   "source": [
    "# Concepts \n",
    "\n",
    "## Grid Detectors \n",
    "![Grid Detectors](./grid.jpeg)\n",
    "\n",
    "![C-NN](./gcnn.jpg)\n",
    "\n",
    "This figure shows a schematic illustration of our iterative algorithm ”G-CNN”. It starts with a multi-scale regular grid\n",
    "over the image and iteratively updates the boxes in the grid. Each\n",
    "iteration pushes the boxes toward the objects of interest in the image while classifying their category. [Paper](http://ai2-website.s3.amazonaws.com/publications/G-CNN_Mohammad.pdf)\n",
    "\n",
    "[More about Grid Detectors](https://machinethink.net/blog/object-detection/)"
   ]
  },
  {
   "cell_type": "markdown",
   "metadata": {},
   "source": [
    "## Default Boxes \n",
    "\n",
    "![Default Boxes](./default-box.jpeg)\n",
    "\n",
    "A bounding box predictor will have a hard time predicting a bounding box for objects that can be in many different shapes. While grid detectors allow an object detection model to detect objects at different locations on the input image. Each default box has a simple object detection mode"
   ]
  },
  {
   "cell_type": "markdown",
   "metadata": {},
   "source": [
    "## Feature Maps \n",
    "![Featrue Maps](./feature-maps.jpeg)\n",
    "\n",
    "We can use featrue maps of pre-trained model like VGG or ResNet or AlexNet..."
   ]
  },
  {
   "cell_type": "markdown",
   "metadata": {},
   "source": [
    "# SSD Network Structure \n",
    "the main goal is to produce detections at different **scales**, **shapes**, and **locations**. "
   ]
  },
  {
   "cell_type": "markdown",
   "metadata": {},
   "source": [
    "### Changes will be made in the VGG network \n",
    "1. The fc6 and fc7 of VGG16 is turned into convolutional layers through the use of Atrous Convolution."
   ]
  },
  {
   "cell_type": "code",
   "execution_count": null,
   "metadata": {},
   "outputs": [],
   "source": []
  }
 ],
 "metadata": {
  "language_info": {
   "name": "python"
  },
  "orig_nbformat": 4
 },
 "nbformat": 4,
 "nbformat_minor": 2
}
